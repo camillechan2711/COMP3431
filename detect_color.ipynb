{
 "cells": [
  {
   "cell_type": "code",
   "execution_count": 20,
   "metadata": {},
   "outputs": [],
   "source": [
    "import cv2 as cv\n",
    "import numpy as np\n",
    "import matplotlib.pyplot as plt"
   ]
  },
  {
   "cell_type": "code",
   "execution_count": 43,
   "metadata": {},
   "outputs": [
    {
     "name": "stdout",
     "output_type": "stream",
     "text": [
      "Pink color detected\n",
      "yellow color detected\n",
      "green color detected\n"
     ]
    }
   ],
   "source": [
    "import cv2\n",
    "import numpy as np\n",
    "import matplotlib.pyplot as plt\n",
    "# set color range\n",
    "lower_pink = np.array([0, 100, 124])\n",
    "upper_pink = np.array([163, 234, 226])\n",
    "lower_yellow = np.array([0, 81, 62])\n",
    "upper_yellow = np.array([103, 237, 128])\n",
    "lower_green = np.array([0, 93, 62])\n",
    "upper_green = np.array([81, 235, 255])\n",
    "\n",
    "# get hsv from image\n",
    "image = cv2.imread('markers photos/Photos/test2.jpg')\n",
    "hsv_image = cv2.cvtColor(image, cv2.COLOR_BGR2HSV)\n",
    "\n",
    "#  create mask for every color\n",
    "mask_pink = cv2.inRange(hsv_image, lower_pink, upper_pink)\n",
    "mask_yellow = cv2.inRange(hsv_image, lower_yellow, upper_yellow)\n",
    "mask_green = cv2.inRange(hsv_image,lower_green, upper_green)\n",
    "# 检查每种颜色的掩码中的非零像素的数量 check every color's mask number of non-zero pix\n",
    "non_zero_pink = cv2.countNonZero(mask_pink)\n",
    "non_zero_yellow = cv2.countNonZero(mask_yellow)\n",
    "non_zero_green = cv2.countNonZero(mask_green)\n",
    "# 设置一个阈值，比如 100，来确定颜色是否存在 \n",
    "threshold = 150\n",
    "\n",
    "# 根据非零像素的数量确定颜色是否存在，并输出结果\n",
    "if non_zero_pink > threshold:\n",
    "    print('Pink color detected')\n",
    "\n",
    "if non_zero_yellow > threshold:\n",
    "    print('yellow color detected')\n",
    "\n",
    "if non_zero_green > threshold:\n",
    "    print('green color detected')"
   ]
  },
  {
   "cell_type": "code",
   "execution_count": 44,
   "metadata": {},
   "outputs": [],
   "source": [
    "result_pink = cv2.bitwise_and(image, image, mask=mask_pink)\n",
    "result_yellow = cv2.bitwise_and(image, image, mask=mask_yellow)\n",
    "result_green = cv2.bitwise_and(image, image, mask=mask_green)\n",
    "# cv2.imshow('yellow', result_yellow)\n",
    "# cv2.imshow('green', result_green)\n",
    "# cv2.waitKey(0)\n",
    "# cv2.destroyAllWindows()"
   ]
  },
  {
   "cell_type": "code",
   "execution_count": 45,
   "metadata": {},
   "outputs": [],
   "source": [
    "def find_color_positions(mask, color_name):\n",
    "    # 找到轮廓\n",
    "    contours, _ = cv2.findContours(mask, cv2.RETR_EXTERNAL, cv2.CHAIN_APPROX_SIMPLE)\n",
    "    if contours:  # 确保至少找到一个轮廓\n",
    "        # 寻找面积最大的轮廓\n",
    "        max_contour = max(contours, key=cv2.contourArea)\n",
    "        x, y, w, h = cv2.boundingRect(max_contour)  # 获取边界矩形的坐标\n",
    "        print(f'{color_name}: x={x}, y={y}, w={w}, h={h}')\n",
    "        cv2.rectangle(image, (x, y), (x + w, y + h), (0, 255, 0), 2)  # 在原始图像上绘制边界矩形\n",
    "        cv2.putText(image, color_name, (x, y - 10), cv2.FONT_HERSHEY_SIMPLEX, 0.5, (0, 255, 0), 2)  # 在原始图像上标注颜色名称\n",
    "        \n"
   ]
  },
  {
   "cell_type": "code",
   "execution_count": 46,
   "metadata": {},
   "outputs": [
    {
     "name": "stdout",
     "output_type": "stream",
     "text": [
      "Pink: x=80, y=62, w=32, h=36\n",
      "Green: x=81, y=28, w=30, h=33\n"
     ]
    }
   ],
   "source": [
    "find_color_positions(mask_pink, 'Pink')\n",
    "find_color_positions(mask_green, 'Green')"
   ]
  },
  {
   "cell_type": "code",
   "execution_count": 42,
   "metadata": {},
   "outputs": [],
   "source": [
    "cv2.imshow('Result', image)\n",
    "cv2.waitKey(0)\n",
    "cv2.destroyAllWindows()\n",
    "# plt.imshow('result', image)"
   ]
  },
  {
   "cell_type": "code",
   "execution_count": 20,
   "metadata": {},
   "outputs": [],
   "source": [
    "# image1 = cv.imread('markers photos/Photos/test.jpg')\n",
    "# hsv_image1 = cv.cvtColor(image1, cv.COLOR_BGR2HSV)\n",
    "# image2 = cv.imread('markers photos/Photos/test1.jpg')\n",
    "# hsv_image2 = cv.cvtColor(image2, cv.COLOR_BGR2HSV)\n",
    "# image3 = cv.imread('markers photos/Photos/test2.jpg')\n",
    "# hsv_image3 = cv.cvtColor(image3, cv.COLOR_BGR2HSV)\n",
    "# image4 = cv.imread('markers photos/Photos/test3.jpg')\n",
    "# hsv_image4 = cv.cvtColor(image4, cv.COLOR_BGR2HSV)\n",
    "# image5 = cv.imread('markers photos/Photos/test4.jpg')\n",
    "# hsv_image5 = cv.cvtColor(image5, cv.COLOR_BGR2HSV)\n",
    "# image6 = cv.imread('markers photos/Photos/test5.jpg')\n",
    "# hsv_image6 = cv.cvtColor(image6, cv.COLOR_BGR2HSV)\n",
    "# image7 = cv.imread('markers photos/Photos/test6.jpg')\n",
    "# hsv_image7 = cv.cvtColor(image7, cv.COLOR_BGR2HSV)\n",
    "# image8 = cv.imread('markers photos/Photos/test7.jpg')\n",
    "# hsv_image8 = cv.cvtColor(image8, cv.COLOR_BGR2HSV)\n",
    "# image9 = cv.imread('markers photos/Photos/test8.jpg')\n",
    "# hsv_image9 = cv.cvtColor(image9, cv.COLOR_BGR2HSV)\n",
    "# image10 = cv.imread('markers photos/Photos/test9.jpg')\n",
    "# hsv_image10 = cv.cvtColor(image10, cv.COLOR_BGR2HSV)\n",
    "# image11 = cv.imread('markers photos/Photos/test10.jpg')\n",
    "# hsv_image11 = cv.cvtColor(image11, cv.COLOR_BGR2HSV)\n"
   ]
  },
  {
   "cell_type": "code",
   "execution_count": 21,
   "metadata": {},
   "outputs": [],
   "source": [
    "# image_blue = cv.imread('markers photos/segement_color/blue.jpg')\n",
    "# image_green = cv.imread('markers photos/segement_color/green.jpg')\n",
    "# image_yellow = cv.imread('markers photos/segement_color/yellow.jpg')\n",
    "# image_pink = cv.imread('markers photos/segement_color/pink.jpg')"
   ]
  },
  {
   "cell_type": "code",
   "execution_count": 22,
   "metadata": {},
   "outputs": [],
   "source": [
    "# image_blue_hsv = cv.cvtColor(image_blue, cv.COLOR_BGR2HSV)\n",
    "# image_green_hsv = cv.cvtColor(image_green,cv.COLOR_BGR2HSV)\n",
    "# image_yellow_hsv = cv.cvtColor(image_yellow,cv.COLOR_BGR2HSV)\n",
    "# image_pink_hsv = cv.cvtColor(image_pink,cv.COLOR_BGR2HSV)"
   ]
  },
  {
   "cell_type": "code",
   "execution_count": 23,
   "metadata": {},
   "outputs": [],
   "source": [
    "# def hist(image_hsv):    \n",
    "#     hist_hue = cv.calcHist([image_hsv], [0], None, [180], [0, 180])\n",
    "#     threshold = 0.1 * np.sum(hist_hue)\n",
    "#     hue_low = next((i for i, val in enumerate(hist_hue) if val > threshold), 0)\n",
    "#     hue_high = next((i for i, val in reversed(list(enumerate(hist_hue))) if val > threshold), 179)\n",
    "#     print(f'Hue range: {hue_low} - {hue_high}')\n",
    "\n",
    "#     hist_saturation = cv.calcHist([image_hsv], [1], None, [256], [0, 256])\n",
    "#     threshold_saturation = 0.1 * np.sum(hist_saturation)\n",
    "#     saturation_low = next((i for i, val in enumerate(hist_saturation) if val > threshold_saturation), 0)\n",
    "#     saturation_high = next((i for i, val in reversed(list(enumerate(hist_saturation))) if val > threshold_saturation), 255)\n",
    "\n",
    "#     hist_value = cv.calcHist([image_hsv], [2], None, [256], [0, 256])\n",
    "#     threshold_value = 0.1 * np.sum(hist_value)\n",
    "#     value_low = next((i for i, val in enumerate(hist_value) if val > threshold_value), 0)\n",
    "#     value_high = next((i for i, val in reversed(list(enumerate(hist_value))) if val > threshold_value), 255)\n",
    "\n",
    "#     return hue_low, hue_high, saturation_low, saturation_high, value_low, value_high\n"
   ]
  },
  {
   "cell_type": "code",
   "execution_count": 24,
   "metadata": {},
   "outputs": [],
   "source": [
    "# blue_hue_low, blue_hue_high, blue_saturation_low, blue_saturation_high, blue_value_low, blue_value_high = hist(image_blue_hsv)\n",
    "# green_hue_low, green_hue_high, green_saturation_low, green_saturation_high, green_value_low, green_value_high = hist(image_green_hsv)\n",
    "# yellow_hue_low, yellow_hue_high, yellow_saturation_low, yellow_saturation_high, yellow_value_low, yellow_value_high = hist(image_yellow_hsv)\n",
    "# pink_hue_low, pink_hue_high, pink_saturation_low, pink_saturation_high, pink_value_low, pink_value_high = hist(image_pink_hsv)\n"
   ]
  },
  {
   "cell_type": "code",
   "execution_count": 25,
   "metadata": {},
   "outputs": [],
   "source": [
    "# color_ranges = [\n",
    "#     ((blue_hue_low, blue_saturation_low, blue_value_low), (blue_hue_high, blue_saturation_high, blue_value_high)),\n",
    "#     ((green_hue_low, green_saturation_low, green_value_low), (green_hue_high, green_saturation_high, green_value_high)),\n",
    "#     ((yellow_hue_low, yellow_saturation_low, yellow_value_low), (yellow_hue_high, yellow_saturation_high, yellow_value_high)),\n",
    "#     ((pink_hue_low, pink_saturation_low, pink_value_low), (pink_hue_high, pink_saturation_high, pink_value_high))\n",
    "#     # ... 更多颜色范围\n",
    "# ]\n"
   ]
  },
  {
   "cell_type": "code",
   "execution_count": 26,
   "metadata": {},
   "outputs": [],
   "source": [
    "# pink range\n",
    "# (hMin = 0 , sMin = 100, vMin = 124), (hMax = 163 , sMax = 234, vMax = 226) \n",
    "# yellow range\n",
    "# (hMin = 0 , sMin = 81, vMin = 62), (hMax = 103 , sMax = 237, vMax = 128)\n",
    "# green range\n",
    "# (hMin = 12 , sMin = 120, vMin = 51), (hMax = 89 , sMax = 237, vMax = 175)\n",
    "image = cv.imread('markers photos/Photos/test9.jpg')\n",
    "image_hsv = cv.cvtColor(image,cv.COLOR_BGR2HSV)"
   ]
  },
  {
   "cell_type": "code",
   "execution_count": null,
   "metadata": {},
   "outputs": [],
   "source": []
  },
  {
   "cell_type": "code",
   "execution_count": 27,
   "metadata": {},
   "outputs": [],
   "source": [
    "lower_pink = np.array([0, 100, 124])\n",
    "upper_pink = np.array([163, 234, 226])\n",
    "lower_green = np.array([0, 81, 62])\n",
    "upper_green = np.array([103, 237, 128])"
   ]
  },
  {
   "cell_type": "code",
   "execution_count": 28,
   "metadata": {},
   "outputs": [],
   "source": [
    "# 为每种颜色创建掩码\n",
    "mask_pink = cv.inRange(image_hsv, lower_pink, upper_pink)\n",
    "mask_green = cv.inRange(image_hsv, lower_green, upper_green)\n",
    "\n",
    "# 合并掩码\n",
    "mask_combined = cv.bitwise_or(mask_pink, mask_green)\n",
    "\n",
    "# 找到轮廓\n",
    "contours, _ = cv.findContours(mask_combined, cv.RETR_EXTERNAL, cv.CHAIN_APPROX_SIMPLE)\n",
    "\n",
    "# 遍历轮廓并在原始图像上画出边界框\n",
    "for contour in contours:\n",
    "    x, y, w, h = cv.boundingRect(contour)\n",
    "    cv.rectangle(image, (x, y), (x+w, y+h), (0, 255, 0), 2)  # 在原始图像上绘制轮廓的边界框\n",
    "\n",
    "# 显示结果\n",
    "cv.imshow('Result', image)\n",
    "cv.waitKey(0)\n",
    "cv.destroyAllWindows()"
   ]
  }
 ],
 "metadata": {
  "kernelspec": {
   "display_name": "Python 3",
   "language": "python",
   "name": "python3"
  },
  "language_info": {
   "codemirror_mode": {
    "name": "ipython",
    "version": 3
   },
   "file_extension": ".py",
   "mimetype": "text/x-python",
   "name": "python",
   "nbconvert_exporter": "python",
   "pygments_lexer": "ipython3",
   "version": "3.10.10"
  }
 },
 "nbformat": 4,
 "nbformat_minor": 2
}
